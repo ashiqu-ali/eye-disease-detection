{
  "nbformat": 4,
  "nbformat_minor": 0,
  "metadata": {
    "colab": {
      "provenance": [],
      "authorship_tag": "ABX9TyPKcsnoYhfA51ne7TglsGds",
      "include_colab_link": true
    },
    "kernelspec": {
      "name": "python3",
      "display_name": "Python 3"
    },
    "language_info": {
      "name": "python"
    }
  },
  "cells": [
    {
      "cell_type": "markdown",
      "metadata": {
        "id": "view-in-github",
        "colab_type": "text"
      },
      "source": [
        "<a href=\"https://colab.research.google.com/github/ashiqu-ali/eye-disease-detection/blob/main/eye_disease_detection.ipynb\" target=\"_parent\"><img src=\"https://colab.research.google.com/assets/colab-badge.svg\" alt=\"Open In Colab\"/></a>"
      ]
    },
    {
      "cell_type": "code",
      "source": [
        "!mkdir -p ~/.kaggle\n",
        "!cp kaggle.json ~/.kaggle/"
      ],
      "metadata": {
        "id": "rUY73-EWHIWn"
      },
      "execution_count": 1,
      "outputs": []
    },
    {
      "cell_type": "code",
      "execution_count": 3,
      "metadata": {
        "colab": {
          "base_uri": "https://localhost:8080/"
        },
        "id": "aW5ZFSL3G5fY",
        "outputId": "2ff9693f-4463-4162-ab26-a1c630b7cd39"
      },
      "outputs": [
        {
          "output_type": "stream",
          "name": "stdout",
          "text": [
            "Warning: Your Kaggle API key is readable by other users on this system! To fix this, you can run 'chmod 600 /root/.kaggle/kaggle.json'\n",
            "eye-disease-dataset.zip: Skipping, found more recently modified local copy (use --force to force download)\n"
          ]
        }
      ],
      "source": [
        "# api command for dataset\n",
        "!kaggle datasets download -d ashiquali/eye-disease-dataset"
      ]
    },
    {
      "cell_type": "code",
      "source": [
        "#extract zip file\n",
        "import zipfile\n",
        "zip_ref = zipfile.ZipFile('/content/eye-disease-dataset.zip', 'r')\n",
        "zip_ref.extractall('/content')\n",
        "zip_ref.close()"
      ],
      "metadata": {
        "id": "JDbcHzFPHpOo"
      },
      "execution_count": 4,
      "outputs": []
    },
    {
      "cell_type": "code",
      "source": [
        "import tensorflow as tf\n",
        "from keras.applications.vgg19 import VGG19\n",
        "from keras.preprocessing.image import ImageDataGenerator"
      ],
      "metadata": {
        "id": "FwVnn2Y0H71D"
      },
      "execution_count": 5,
      "outputs": []
    },
    {
      "cell_type": "code",
      "source": [
        "# variables\n",
        "test_data = '/content/dataset/test'\n",
        "train_data = '/content/dataset/train'\n",
        "epochs = 50\n",
        "batchSize = 8"
      ],
      "metadata": {
        "id": "8Sl7v9jOH-0v"
      },
      "execution_count": 29,
      "outputs": []
    },
    {
      "cell_type": "code",
      "source": [
        "# Preprocessing and data augmentation\n",
        "train_datagen = ImageDataGenerator(rescale=1./255, shear_range=0.2, zoom_range=0.2, horizontal_flip=True)\n",
        "test_datagen = ImageDataGenerator(rescale=1./255)\n",
        "\n",
        "train_generator = train_datagen.flow_from_directory(test_data, target_size=(224, 224), batch_size=batchSize, class_mode='categorical')\n",
        "test_generator = test_datagen.flow_from_directory(train_data, target_size=(224, 224), batch_size=batchSize, class_mode='categorical')"
      ],
      "metadata": {
        "colab": {
          "base_uri": "https://localhost:8080/"
        },
        "id": "TJ7gtZ8lIIY5",
        "outputId": "100f3294-fc2a-409f-ff25-58de6f8afb62"
      },
      "execution_count": 8,
      "outputs": [
        {
          "output_type": "stream",
          "name": "stdout",
          "text": [
            "Found 64 images belonging to 4 classes.\n",
            "Found 192 images belonging to 4 classes.\n"
          ]
        }
      ]
    },
    {
      "cell_type": "code",
      "source": [
        "# Load the VGG19 model\n",
        "base_model = VGG19(weights='imagenet', include_top=False, input_shape=(224, 224, 3))"
      ],
      "metadata": {
        "colab": {
          "base_uri": "https://localhost:8080/"
        },
        "id": "T-khrHU2IQjw",
        "outputId": "2fe75d90-c9c2-42ed-fc7c-c246a0425608"
      },
      "execution_count": 9,
      "outputs": [
        {
          "output_type": "stream",
          "name": "stdout",
          "text": [
            "Downloading data from https://storage.googleapis.com/tensorflow/keras-applications/vgg19/vgg19_weights_tf_dim_ordering_tf_kernels_notop.h5\n",
            "80134624/80134624 [==============================] - 0s 0us/step\n"
          ]
        }
      ]
    },
    {
      "cell_type": "code",
      "source": [
        "# Freeze the base model layers\n",
        "for layer in base_model.layers:\n",
        "    layer.trainable = False"
      ],
      "metadata": {
        "id": "ynHn5WOwIUUY"
      },
      "execution_count": 10,
      "outputs": []
    },
    {
      "cell_type": "code",
      "source": [
        "# Convolutional layers with max pooling\n",
        "conv_layers = tf.keras.models.Sequential([\n",
        "    base_model,\n",
        "    tf.keras.layers.MaxPooling2D(pool_size=(2, 2))\n",
        "])"
      ],
      "metadata": {
        "id": "4DWi4RPXIWdv"
      },
      "execution_count": 11,
      "outputs": []
    },
    {
      "cell_type": "code",
      "source": [
        "# Fully connected layers\n",
        "fully_connected_layers = tf.keras.models.Sequential([\n",
        "    tf.keras.layers.Flatten(),\n",
        "    tf.keras.layers.Dense(256, activation='relu'),\n",
        "    tf.keras.layers.Dense(4, activation='softmax')\n",
        "])"
      ],
      "metadata": {
        "id": "v4AANBKMIfIO"
      },
      "execution_count": 16,
      "outputs": []
    },
    {
      "cell_type": "code",
      "source": [
        "# Combine layers into the model\n",
        "model = tf.keras.models.Sequential([\n",
        "    conv_layers,\n",
        "    fully_connected_layers\n",
        "])"
      ],
      "metadata": {
        "id": "RkCGTf4rIhhM"
      },
      "execution_count": 17,
      "outputs": []
    },
    {
      "cell_type": "code",
      "source": [
        "# Compile the model\n",
        "model.compile(optimizer='adam', loss='categorical_crossentropy', metrics=['accuracy'])\n",
        "\n",
        "# Train the model\n",
        "history = model.fit(train_generator, epochs=epochs, validation_data=test_generator)"
      ],
      "metadata": {
        "colab": {
          "base_uri": "https://localhost:8080/"
        },
        "id": "LEkoyRESInN2",
        "outputId": "acb6ceb0-c4c5-4f46-b328-8355d641eeba"
      },
      "execution_count": 30,
      "outputs": [
        {
          "output_type": "stream",
          "name": "stdout",
          "text": [
            "Epoch 1/50\n",
            "8/8 [==============================] - 202s 28s/step - loss: 0.0203 - accuracy: 1.0000 - val_loss: 1.5313 - val_accuracy: 0.6562\n",
            "Epoch 2/50\n",
            "8/8 [==============================] - 255s 35s/step - loss: 0.0529 - accuracy: 0.9844 - val_loss: 1.2507 - val_accuracy: 0.6562\n",
            "Epoch 3/50\n",
            "8/8 [==============================] - 255s 35s/step - loss: 0.0384 - accuracy: 0.9844 - val_loss: 1.2700 - val_accuracy: 0.6771\n",
            "Epoch 4/50\n",
            "8/8 [==============================] - 252s 35s/step - loss: 0.0113 - accuracy: 1.0000 - val_loss: 2.3965 - val_accuracy: 0.5833\n",
            "Epoch 5/50\n",
            "8/8 [==============================] - 253s 35s/step - loss: 0.0777 - accuracy: 0.9844 - val_loss: 2.4938 - val_accuracy: 0.5729\n",
            "Epoch 6/50\n",
            "8/8 [==============================] - 254s 35s/step - loss: 0.2936 - accuracy: 0.9375 - val_loss: 2.4617 - val_accuracy: 0.5312\n",
            "Epoch 7/50\n",
            "8/8 [==============================] - 256s 36s/step - loss: 0.1621 - accuracy: 0.9219 - val_loss: 1.6087 - val_accuracy: 0.6615\n",
            "Epoch 8/50\n",
            "8/8 [==============================] - 200s 28s/step - loss: 0.1247 - accuracy: 0.9531 - val_loss: 1.3126 - val_accuracy: 0.6615\n",
            "Epoch 9/50\n",
            "8/8 [==============================] - 255s 36s/step - loss: 0.0536 - accuracy: 0.9688 - val_loss: 2.8277 - val_accuracy: 0.4635\n",
            "Epoch 10/50\n",
            "8/8 [==============================] - 253s 35s/step - loss: 0.0555 - accuracy: 0.9688 - val_loss: 1.2099 - val_accuracy: 0.7188\n",
            "Epoch 11/50\n",
            "8/8 [==============================] - 197s 27s/step - loss: 0.0071 - accuracy: 1.0000 - val_loss: 1.5774 - val_accuracy: 0.6146\n",
            "Epoch 12/50\n",
            "8/8 [==============================] - 252s 35s/step - loss: 0.0048 - accuracy: 1.0000 - val_loss: 1.4479 - val_accuracy: 0.6510\n",
            "Epoch 13/50\n",
            "8/8 [==============================] - 197s 27s/step - loss: 0.0075 - accuracy: 1.0000 - val_loss: 1.3866 - val_accuracy: 0.6615\n",
            "Epoch 14/50\n",
            "8/8 [==============================] - 255s 35s/step - loss: 6.9325e-04 - accuracy: 1.0000 - val_loss: 1.4543 - val_accuracy: 0.6719\n",
            "Epoch 15/50\n",
            "8/8 [==============================] - 253s 35s/step - loss: 0.0018 - accuracy: 1.0000 - val_loss: 1.4998 - val_accuracy: 0.6510\n",
            "Epoch 16/50\n",
            "8/8 [==============================] - 251s 35s/step - loss: 0.0012 - accuracy: 1.0000 - val_loss: 1.4480 - val_accuracy: 0.6510\n",
            "Epoch 17/50\n",
            "8/8 [==============================] - 255s 36s/step - loss: 0.0010 - accuracy: 1.0000 - val_loss: 1.3930 - val_accuracy: 0.6510\n",
            "Epoch 18/50\n",
            "8/8 [==============================] - 252s 35s/step - loss: 0.0012 - accuracy: 1.0000 - val_loss: 1.4208 - val_accuracy: 0.6458\n",
            "Epoch 19/50\n",
            "8/8 [==============================] - 252s 35s/step - loss: 5.5876e-04 - accuracy: 1.0000 - val_loss: 1.4286 - val_accuracy: 0.6406\n",
            "Epoch 20/50\n",
            "8/8 [==============================] - 252s 35s/step - loss: 4.0314e-04 - accuracy: 1.0000 - val_loss: 1.4067 - val_accuracy: 0.6406\n",
            "Epoch 21/50\n",
            "8/8 [==============================] - 255s 36s/step - loss: 4.9616e-04 - accuracy: 1.0000 - val_loss: 1.3861 - val_accuracy: 0.6562\n",
            "Epoch 22/50\n",
            "8/8 [==============================] - 251s 35s/step - loss: 6.0411e-04 - accuracy: 1.0000 - val_loss: 1.3808 - val_accuracy: 0.6458\n",
            "Epoch 23/50\n",
            "8/8 [==============================] - 253s 35s/step - loss: 7.2566e-04 - accuracy: 1.0000 - val_loss: 1.3848 - val_accuracy: 0.6406\n",
            "Epoch 24/50\n",
            "8/8 [==============================] - 200s 28s/step - loss: 0.0020 - accuracy: 1.0000 - val_loss: 1.4414 - val_accuracy: 0.6406\n",
            "Epoch 25/50\n",
            "8/8 [==============================] - 250s 35s/step - loss: 6.4568e-04 - accuracy: 1.0000 - val_loss: 1.5394 - val_accuracy: 0.6146\n",
            "Epoch 26/50\n",
            "8/8 [==============================] - 255s 35s/step - loss: 8.6797e-04 - accuracy: 1.0000 - val_loss: 1.5297 - val_accuracy: 0.6146\n",
            "Epoch 27/50\n",
            "8/8 [==============================] - 195s 27s/step - loss: 6.8624e-04 - accuracy: 1.0000 - val_loss: 1.4969 - val_accuracy: 0.6302\n",
            "Epoch 28/50\n",
            "8/8 [==============================] - 255s 35s/step - loss: 4.9359e-04 - accuracy: 1.0000 - val_loss: 1.4543 - val_accuracy: 0.6354\n",
            "Epoch 29/50\n",
            "8/8 [==============================] - 252s 35s/step - loss: 2.3118e-04 - accuracy: 1.0000 - val_loss: 1.4270 - val_accuracy: 0.6406\n",
            "Epoch 30/50\n",
            "8/8 [==============================] - 252s 35s/step - loss: 2.8826e-04 - accuracy: 1.0000 - val_loss: 1.4057 - val_accuracy: 0.6406\n",
            "Epoch 31/50\n",
            "8/8 [==============================] - 254s 35s/step - loss: 2.9767e-04 - accuracy: 1.0000 - val_loss: 1.3917 - val_accuracy: 0.6406\n",
            "Epoch 32/50\n",
            "8/8 [==============================] - 253s 35s/step - loss: 0.0011 - accuracy: 1.0000 - val_loss: 1.3901 - val_accuracy: 0.6458\n",
            "Epoch 33/50\n",
            "8/8 [==============================] - 199s 27s/step - loss: 3.9647e-04 - accuracy: 1.0000 - val_loss: 1.3847 - val_accuracy: 0.6458\n",
            "Epoch 34/50\n",
            "8/8 [==============================] - 254s 35s/step - loss: 2.6344e-04 - accuracy: 1.0000 - val_loss: 1.3791 - val_accuracy: 0.6562\n",
            "Epoch 35/50\n",
            "8/8 [==============================] - 252s 35s/step - loss: 3.1631e-04 - accuracy: 1.0000 - val_loss: 1.3677 - val_accuracy: 0.6562\n",
            "Epoch 36/50\n",
            "8/8 [==============================] - 254s 35s/step - loss: 1.9791e-04 - accuracy: 1.0000 - val_loss: 1.3584 - val_accuracy: 0.6615\n",
            "Epoch 37/50\n",
            "8/8 [==============================] - 201s 28s/step - loss: 2.8792e-04 - accuracy: 1.0000 - val_loss: 1.3458 - val_accuracy: 0.6562\n",
            "Epoch 38/50\n",
            "8/8 [==============================] - 253s 35s/step - loss: 3.7863e-04 - accuracy: 1.0000 - val_loss: 1.3415 - val_accuracy: 0.6562\n",
            "Epoch 39/50\n",
            "8/8 [==============================] - 201s 28s/step - loss: 2.9924e-04 - accuracy: 1.0000 - val_loss: 1.3440 - val_accuracy: 0.6615\n",
            "Epoch 40/50\n",
            "8/8 [==============================] - 253s 35s/step - loss: 5.1219e-04 - accuracy: 1.0000 - val_loss: 1.3579 - val_accuracy: 0.6615\n",
            "Epoch 41/50\n",
            "8/8 [==============================] - 253s 35s/step - loss: 2.3291e-04 - accuracy: 1.0000 - val_loss: 1.3825 - val_accuracy: 0.6615\n",
            "Epoch 42/50\n",
            "8/8 [==============================] - 252s 35s/step - loss: 5.2334e-04 - accuracy: 1.0000 - val_loss: 1.3845 - val_accuracy: 0.6615\n",
            "Epoch 43/50\n",
            "8/8 [==============================] - 253s 35s/step - loss: 3.6050e-04 - accuracy: 1.0000 - val_loss: 1.3717 - val_accuracy: 0.6562\n",
            "Epoch 44/50\n",
            "8/8 [==============================] - 252s 35s/step - loss: 6.4393e-04 - accuracy: 1.0000 - val_loss: 1.3662 - val_accuracy: 0.6615\n",
            "Epoch 45/50\n",
            "8/8 [==============================] - 197s 27s/step - loss: 4.5736e-04 - accuracy: 1.0000 - val_loss: 1.3711 - val_accuracy: 0.6615\n",
            "Epoch 46/50\n",
            "8/8 [==============================] - 250s 35s/step - loss: 2.3305e-04 - accuracy: 1.0000 - val_loss: 1.3723 - val_accuracy: 0.6615\n",
            "Epoch 47/50\n",
            "8/8 [==============================] - 196s 27s/step - loss: 4.2078e-04 - accuracy: 1.0000 - val_loss: 1.3665 - val_accuracy: 0.6562\n",
            "Epoch 48/50\n",
            "8/8 [==============================] - 251s 35s/step - loss: 8.5167e-04 - accuracy: 1.0000 - val_loss: 1.3411 - val_accuracy: 0.6615\n",
            "Epoch 49/50\n",
            "8/8 [==============================] - 252s 35s/step - loss: 2.0480e-04 - accuracy: 1.0000 - val_loss: 1.3127 - val_accuracy: 0.6771\n",
            "Epoch 50/50\n",
            "8/8 [==============================] - 251s 35s/step - loss: 4.7466e-04 - accuracy: 1.0000 - val_loss: 1.3134 - val_accuracy: 0.6719\n"
          ]
        }
      ]
    },
    {
      "cell_type": "code",
      "source": [
        "import matplotlib.pyplot as plt\n",
        "\n",
        "plt.plot(history.history['accuracy'], color='red', label='train')\n",
        "plt.plot(history.history['val_accuracy'], color='blue', label='validation')\n",
        "plt.legend()\n",
        "plt.xlabel('Epoch')\n",
        "plt.ylabel('Accuracy')\n",
        "plt.title('Training and Validation Accuracy Over Epochs')\n",
        "plt.show()"
      ],
      "metadata": {
        "colab": {
          "base_uri": "https://localhost:8080/",
          "height": 472
        },
        "id": "N0HHe3EOqUyY",
        "outputId": "948e0c37-f770-4423-9f74-9d9e3e29b583"
      },
      "execution_count": 31,
      "outputs": [
        {
          "output_type": "display_data",
          "data": {
            "text/plain": [
              "<Figure size 640x480 with 1 Axes>"
            ],
            "image/png": "[encoded data removed]"
          },
          "metadata": {}
        }
      ]
    },
    {
      "cell_type": "code",
      "source": [
        "# Save the model\n",
        "model.save('model.h5')\n",
        "\n",
        "# Evaluate the model\n",
        "test_loss, test_accuracy = model.evaluate(test_generator)\n",
        "print('Test Accuracy:', test_accuracy)"
      ],
      "metadata": {
        "colab": {
          "base_uri": "https://localhost:8080/"
        },
        "id": "GfVG9zNeqWF6",
        "outputId": "77fd0889-9335-4593-decc-c6496114350a"
      },
      "execution_count": 32,
      "outputs": [
        {
          "output_type": "stream",
          "name": "stderr",
          "text": [
            "/usr/local/lib/python3.10/dist-packages/keras/src/engine/training.py:3103: UserWarning: You are saving your model as an HDF5 file via `model.save()`. This file format is considered legacy. We recommend using instead the native Keras format, e.g. `model.save('my_model.keras')`.\n",
            "  saving_api.save_model(\n"
          ]
        },
        {
          "output_type": "stream",
          "name": "stdout",
          "text": [
            "24/24 [==============================] - 146s 6s/step - loss: 1.3134 - accuracy: 0.6719\n",
            "Test Accuracy: 0.671875\n"
          ]
        }
      ]
    }
  ]
}